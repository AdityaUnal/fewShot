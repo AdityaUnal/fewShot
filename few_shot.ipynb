{
 "cells": [
  {
   "cell_type": "code",
   "execution_count": null,
   "metadata": {},
   "outputs": [],
   "source": [
    "from langchain_community.document_loaders import PyPDFLoader\n",
    "from langchain.text_splitter import RecursiveCharacterTextSplitter\n",
    "# from langchain_community.vectorstores import Chroma\n",
    "from sentence_transformers import SentenceTransformer\n",
    "from langchain_huggingface import HuggingFaceEmbeddings\n",
    "from langchain_chroma import Chroma\n",
    "from langchain_huggingface import HuggingFaceEndpoint\n",
    "from dotenv import load_dotenv\n",
    "import os"
   ]
  },
  {
   "cell_type": "code",
   "execution_count": 2,
   "metadata": {},
   "outputs": [],
   "source": [
    "model = SentenceTransformer('sentence-transformers/all-MiniLM-L6-v2')\n",
    "embedding_function = HuggingFaceEmbeddings(model_name=\"sentence-transformers/all-MiniLM-L6-v2\")"
   ]
  },
  {
   "cell_type": "code",
   "execution_count": 3,
   "metadata": {},
   "outputs": [],
   "source": [
    "# pdf_paths = [\"pdfcoffee.com_jane-huff-ecg-workout-exercises-in-arrhythmia-interpretation-2011-pdf-free.pdf\", \n",
    "#               \"1garcia_tomas_b_ed_12_lead_ecg_the_art_of_interpretation.pdf\"]\n",
    " \n",
    "# chroma_db = Chroma(persist_directory='./home/laflamme/course/capstone/chromadb', collection_name=\"arrythmia_embeddings\", embedding_function=embedding_function\n",
    "#                    )\n",
    "# for pdf in pdf_paths:\n",
    "#     print(pdf)\n",
    "#     loader = PyPDFLoader(pdf)\n",
    "#     docs = loader.load()\n",
    "\n",
    "#     text_splitter = RecursiveCharacterTextSplitter(chunk_size=1000,chunk_overlap = 200)\n",
    "    \n",
    "#     documents = text_splitter.split_documents(docs)\n",
    "#     chroma_db.add_documents(documents)\n",
    "    "
   ]
  },
  {
   "cell_type": "code",
   "execution_count": 4,
   "metadata": {},
   "outputs": [],
   "source": [
    "db = Chroma(persist_directory='./home/laflamme/course/capstone/chromadb', collection_name=\"arrythmia_embeddings\", embedding_function=embedding_function)\n",
    "\n"
   ]
  },
  {
   "cell_type": "code",
   "execution_count": 5,
   "metadata": {},
   "outputs": [],
   "source": [
    "import pandas as pd\n"
   ]
  },
  {
   "cell_type": "code",
   "execution_count": 6,
   "metadata": {},
   "outputs": [],
   "source": [
    "data_dir = '/home/laflamme/course/capstone/ptb-xl+'\n",
    "label_file = data_dir + '/labels/mapping/12slv23ToSNOMED.csv'\n",
    "labels = pd.read_csv(label_file)\n",
    "labelled_data = labels['Acronym'].dropna()\n",
    "# labelled_data.__sizeof__()\n",
    "# len(labelled_data)"
   ]
  },
  {
   "cell_type": "code",
   "execution_count": 7,
   "metadata": {},
   "outputs": [],
   "source": [
    "statement_file = data_dir + '/labels/12sl_statements.csv'\n",
    "label_ecgid ={}\n",
    "df = pd.read_csv(statement_file)\n",
    "# statements = df['statements']\n",
    "\n",
    "for _,row in df.iterrows():\n",
    "    values = eval(row['statements']) \n",
    "    for value in values:\n",
    "        label_ecgid[value] = row['ecg_id']\n",
    "# len(label_ecgid)"
   ]
  },
  {
   "cell_type": "code",
   "execution_count": 8,
   "metadata": {},
   "outputs": [],
   "source": [
    "def str_features(row):\n",
    "    res = \"\"\n",
    "    for index,value in row.items():\n",
    "        if index==\"ecg_id\":\n",
    "            continue\n",
    "        res = res + f\"The {index} value is {value}. \"\n",
    "    return res"
   ]
  },
  {
   "cell_type": "code",
   "execution_count": 9,
   "metadata": {},
   "outputs": [],
   "source": [
    "feature_file = data_dir + '/features/12sl_features.csv'\n",
    "label_ecg =[]\n",
    "df = pd.read_csv(feature_file)\n",
    "for _,row in df.iterrows():\n",
    "    ecg_id = row['ecg_id']\n",
    "    row.drop(columns=['ecg_id'],axis = 1)\n",
    "    for label,id in label_ecgid.items():\n",
    "        if(ecg_id==id):\n",
    "            # label_ecg.append(f\"The following case looks like \")\n",
    "            label_ecg.append(str_features(row)+f\"The diagnosis is {label}\")\n",
    "            \n",
    "            # label_ecg[label] = row.drop(['ecg_id'])\n",
    "# label_ecg.__sizeof__()"
   ]
  },
  {
   "cell_type": "code",
   "execution_count": 10,
   "metadata": {},
   "outputs": [
    {
     "data": {
      "text/plain": [
       "['langchain', 'arrythmia_embeddings', 'label_embeddings']"
      ]
     },
     "execution_count": 10,
     "metadata": {},
     "output_type": "execute_result"
    }
   ],
   "source": [
    "import chromadb\n",
    "client = chromadb.PersistentClient(path=\"./chromadb\")\n",
    "collections = client.list_collections()\n",
    "collections"
   ]
  },
  {
   "cell_type": "code",
   "execution_count": 11,
   "metadata": {},
   "outputs": [],
   "source": [
    "# db = Chroma(persist_directory='./chromadb')\n",
    "# db._collection_name"
   ]
  },
  {
   "cell_type": "code",
   "execution_count": null,
   "metadata": {},
   "outputs": [],
   "source": [
    "load_dotenv()"
   ]
  },
  {
   "cell_type": "code",
   "execution_count": null,
   "metadata": {},
   "outputs": [],
   "source": [
    "llm = HuggingFaceEndpoint(\n",
    "    repo_id=\"microsoft/biogpt\",\n",
    "    task=\"text-generation\",\n",
    "    huggingfacehub_api_token=os.environ.get('hf_KEY')\n",
    "\n",
    ")"
   ]
  },
  {
   "cell_type": "code",
   "execution_count": 13,
   "metadata": {},
   "outputs": [],
   "source": [
    "from langchain.chains import create_retrieval_chain\n",
    "from langchain_core.prompts import ChatPromptTemplate\n",
    "from langchain.chains.combine_documents import create_stuff_documents_chain"
   ]
  },
  {
   "cell_type": "code",
   "execution_count": 15,
   "metadata": {},
   "outputs": [
    {
     "data": {
      "text/plain": [
       "'\\nAnswer ONLY using the context below. If unsure, say \"I don\\'t know\".\\n\\nCONTEXT:\\n{context}\\n\\nQUESTION: \\n{input}\\n\\nANSWER (no markdown):\\n'"
      ]
     },
     "execution_count": 15,
     "metadata": {},
     "output_type": "execute_result"
    }
   ],
   "source": [
    "\"\"\"\n",
    "Answer ONLY using the context below. If unsure, say \"I don't know\".\n",
    "\n",
    "CONTEXT:\n",
    "{context}\n",
    "\n",
    "QUESTION: \n",
    "{input}\n",
    "\n",
    "ANSWER (no markdown):\n",
    "\"\"\""
   ]
  },
  {
   "cell_type": "code",
   "execution_count": 16,
   "metadata": {},
   "outputs": [],
   "source": [
    "prompt = ChatPromptTemplate.from_template(\"\"\"\n",
    "You are a medical AI assistant specializing in ECG analysis. Your task is to examine the retrieved ECG features and determine if they indicate any abnormalities.  \n",
    "\n",
    "### **Instructions:**  \n",
    "- First, carefully review the provided ECG features in the context.  \n",
    "- If the features suggest a heart condition, specify the most likely disease.  \n",
    "- If you are uncertain, respond with: \"The ECG features do not strongly indicate a known disease.\"  \n",
    "- If no clear conclusion can be drawn, say: \"I don't know.\"  \n",
    "\n",
    "### **RETRIEVED ECG FEATURES:**  \n",
    "{context}  \n",
    "\n",
    "### **QUESTION:**  \n",
    "The following ECG features were observed:  \n",
    "{input}  \n",
    "\n",
    "Do these features indicate heart arrhythmias? If so, specify the most likely disease.  \n",
    "\n",
    "### **ANSWER (no markdown):**  \n",
    "\"\"\")\n"
   ]
  },
  {
   "cell_type": "code",
   "execution_count": 17,
   "metadata": {},
   "outputs": [],
   "source": [
    "# prompt_template = ChatPromptTemplate.from_template(\n",
    "#     \"Look at the ECG features in the context that are given. See if the can be associated with the disease.If you don't know say I don't know\\n\"\n",
    "#     \"Context: {context}\\n\"\n",
    "#     \"Question: {input}\"\n",
    "# )\n",
    "document_chain = create_stuff_documents_chain(llm, prompt)\n",
    "retriever = db.as_retriever(search_kwargs={'k': 15})\n",
    "retrieval_chain = create_retrieval_chain(retriever, document_chain)"
   ]
  },
  {
   "cell_type": "code",
   "execution_count": 18,
   "metadata": {},
   "outputs": [],
   "source": [
    "# !pip install ragas"
   ]
  },
  {
   "cell_type": "code",
   "execution_count": 19,
   "metadata": {},
   "outputs": [],
   "source": [
    "def generate_labels(statement_file):\n",
    "    labels={}\n",
    "    df = pd.read_csv(statement_file)\n",
    "    # statements = df['statements']\n",
    "    for _,row in df.iterrows():\n",
    "        values = eval(row['statements']) \n",
    "        if len(values)!=0:\n",
    "            labels[row['ecg_id']] = values[0]\n",
    "    return labels"
   ]
  },
  {
   "cell_type": "code",
   "execution_count": 20,
   "metadata": {},
   "outputs": [],
   "source": [
    "def generate_label_features(feature_file,labels):\n",
    "    label_features ={}\n",
    "    df = pd.read_csv(feature_file)\n",
    "    for _,row in df.iterrows():\n",
    "        ecg_id = row['ecg_id']\n",
    "        row.drop(columns=['ecg_id'],axis = 1)\n",
    "        # print(ecg_id)\n",
    "        for id,label in labels.items():\n",
    "            # print(f\"bruh {id}\")\n",
    "            if(ecg_id==id):\n",
    "                # label_ecg.append(f\"The following case looks like \")\n",
    "                label_features[label] = str_features(row)\n",
    "                print(len(label_features))\n",
    "        if len(label_features)>10:\n",
    "            break\n",
    "    return label_features"
   ]
  },
  {
   "cell_type": "code",
   "execution_count": 21,
   "metadata": {},
   "outputs": [],
   "source": [
    "def create_test_cases(label_features,retrieval_chain,retriever):\n",
    "    test_cases = []\n",
    "    for features,label in label_features.items():\n",
    "        query = f\"Following are the ECG features :\\n{features}\\n Can they be assocaiated with heart arrythmias. If yes, specify the proper disease name\"\n",
    "        # print(f\"\\n Query: {query}\") \n",
    "        retrieved_docs = retriever.invoke(query)\n",
    "        retrieved_contexts = [doc.page_content for doc in retrieved_docs]\n",
    "\n",
    "        # print(f\" Retrieved {len(retrieved_contexts)} Documents:\")  \n",
    "        for i, ctx in enumerate(retrieved_contexts[:3]):  \n",
    "            print(f\"   {i+1}. {ctx[:200]}...\")  \n",
    "        generated_answer = retrieval_chain.invoke({\n",
    "            \"context\": \"\\n\".join(retrieved_contexts),\n",
    "            \"input\": query\n",
    "        })\n",
    "\n",
    "        # print(f\"Generated Answer: {generated_answer}\\n\") \n",
    "        test_cases.append({\n",
    "            \"query\" : query,\n",
    "            \"ground_truth\":label,\n",
    "            \"retrieved_context\": retrieved_contexts,\n",
    "            \"generated_answer\": generated_answer\n",
    "        })\n",
    "    return test_cases   "
   ]
  },
  {
   "cell_type": "code",
   "execution_count": null,
   "metadata": {},
   "outputs": [],
   "source": []
  },
  {
   "cell_type": "code",
   "execution_count": null,
   "metadata": {},
   "outputs": [],
   "source": [
    "labels = generate_labels(statement_file=statement_file)\n",
    "label_features = generate_label_features(feature_file=feature_file,labels=labels)\n",
    "test_cases = create_test_cases(label_features,retrieval_chain,retriever)"
   ]
  },
  {
   "cell_type": "code",
   "execution_count": null,
   "metadata": {},
   "outputs": [],
   "source": [
    "llm_eval = "mistral:latest"
    "\n",
    ")"
   ]
  },
  {
   "cell_type": "code",
   "execution_count": null,
   "metadata": {},
   "outputs": [
    {
     "name": "stderr",
     "output_type": "stream",
     "text": [
      "Device set to use cpu\n"
     ]
    }
   ],
   "source": [
    "from transformers import pipeline\n",
    "from langchain.llms import HuggingFacePipeline\n",
    "from ragas.llms import LangchainLLMWrapper\n",
    "\n",
    "# class CustomHuggingFacePipeline(HuggingFacePipeline):\n",
    "#     \"\"\"Custom wrapper to add set_run_config method.\"\"\"\n",
    "\n",
    "#     def set_run_config(self, config=None):\n",
    "#         \"\"\"Dummy method to avoid AttributeError in RAGAS.\"\"\"\n",
    "#         pass\n",
    "# Load a text-generation model from Hugging Face\n",
    "hf_pipeline = pipeline(\n",
    "    \"text2text-generation\",\n",
    "    model=\"google/flan-t5-base\",  # Change this to your desired model\n",
    "    device_map=\"auto\"\n",
    ")\n",
    "\n",
    "# Wrap it in LangChain's HuggingFacePipeline\n",
    "llm_eval = HuggingFacePipeline(pipeline=hf_pipeline)\n",
    "wrapped_llm = LangchainLLMWrapper(llm)"
   ]
  },
  {
   "cell_type": "code",
   "execution_count": null,
   "metadata": {},
   "outputs": [],
   "source": [
    "import importlib\n",
    "import evaluation_utils as ev\n",
    "\n",
    "importlib.reload(ev)\n",
    "results = ev.RAGA_Evaluator(test_cases=test_cases,llm = wrapped_llm,embeddings=embedding_function)\n"
   ]
  },
  {
   "cell_type": "code",
   "execution_count": null,
   "metadata": {},
   "outputs": [],
   "source": [
    "\n",
    "print(\"\\n🔹 Evaluation Results:\")\n",
    "for metric, score in results.items():\n",
    "    print(f\"   {metric}: {score:.4f}\")"
   ]
  },
  {
   "cell_type": "code",
   "execution_count": null,
   "metadata": {},
   "outputs": [],
   "source": [
    "\n",
    "# response = retrieval_chain.invoke({\n",
    "#     \"context\": \"\\n\".join(label_ecg),\n",
    "#     \"input\": f\"Following are the ECG features :\\n{label_ecg[0]}\\n Can they be assocaiated with heart arrythmias. If yes, specify the proper disease name\"\n",
    "# })\n",
    "# print(response['input'])\n",
    "\n",
    "# print(response['answer'])"
   ]
  },
  {
   "cell_type": "code",
   "execution_count": null,
   "metadata": {},
   "outputs": [],
   "source": [
    "# document_chain = create_stuff_documents_chain(llm, prompt)\n",
    "# retriever = db.as_retriever(   search_type=\"mmr\",\n",
    "#     search_kwargs={'k': 5, 'fetch_k': 50})\n",
    "# retrieval_chain = create_retrieval_chain(retriever, document_chain)"
   ]
  },
  {
   "cell_type": "code",
   "execution_count": null,
   "metadata": {},
   "outputs": [],
   "source": [
    "\n",
    "# response = retrieval_chain.invoke({\n",
    "#     \"context\": \"\\n\".join(label_ecg),\n",
    "#     \"input\": f\"Following are the ECG features :\\n{label_ecg[0]}\\n Can they be assocaiated with heart arrythmias. If yes, specify the proper disease name\"\n",
    "# })\n",
    "# print(response['input'])\n",
    "\n",
    "# print(response['answer'])"
   ]
  },
  {
   "cell_type": "code",
   "execution_count": null,
   "metadata": {},
   "outputs": [],
   "source": [
    "# document_chain = create_stuff_documents_chain(llm, prompt)\n",
    "# retriever = db.as_retriever(    search_type=\"similarity_score_threshold\",\n",
    "#     search_kwargs={'score_threshold': 0.5})\n",
    "# retrieval_chain = create_retrieval_chain(retriever, document_chain)"
   ]
  },
  {
   "cell_type": "code",
   "execution_count": null,
   "metadata": {},
   "outputs": [],
   "source": [
    "\n",
    "# response = retrieval_chain.invoke({\n",
    "#     \"context\": \"\\n\".join(label_ecg),\n",
    "#     \"input\": f\"Following are the ECG features :\\n{label_ecg[0]}\\n Can they be assocaiated with heart arrythmias. If yes, specify the proper disease name\"\n",
    "# })\n",
    "# print(response['input'])\n",
    "\n",
    "# print(response['answer'])"
   ]
  }
 ],
 "metadata": {
  "kernelspec": {
   "display_name": ".venv",
   "language": "python",
   "name": "python3"
  },
  "language_info": {
   "codemirror_mode": {
    "name": "ipython",
    "version": 3
   },
   "file_extension": ".py",
   "mimetype": "text/x-python",
   "name": "python",
   "nbconvert_exporter": "python",
   "pygments_lexer": "ipython3",
   "version": "3.12.3"
  }
 },
 "nbformat": 4,
 "nbformat_minor": 2
}
